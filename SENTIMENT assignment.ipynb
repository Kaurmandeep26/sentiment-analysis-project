{
 "cells": [
  {
   "cell_type": "code",
   "execution_count": 1,
   "id": "ed84a478-f80a-4bb4-9060-d7d097d36ff4",
   "metadata": {},
   "outputs": [
    {
     "name": "stdout",
     "output_type": "stream",
     "text": [
      "                     id       asins   brand                  categories  \\\n",
      "0  AVpe7AsMilAPnD_xQ78G  B00QJDU3KY  Amazon  Amazon Devices,mazon.co.uk   \n",
      "1  AVpe7AsMilAPnD_xQ78G  B00QJDU3KY  Amazon  Amazon Devices,mazon.co.uk   \n",
      "2  AVpe7AsMilAPnD_xQ78G  B00QJDU3KY  Amazon  Amazon Devices,mazon.co.uk   \n",
      "3  AVpe7AsMilAPnD_xQ78G  B00QJDU3KY  Amazon  Amazon Devices,mazon.co.uk   \n",
      "4  AVpe7AsMilAPnD_xQ78G  B00QJDU3KY  Amazon  Amazon Devices,mazon.co.uk   \n",
      "\n",
      "  colors             dateAdded           dateUpdated  \\\n",
      "0    NaN  2016-03-08T20:21:53Z  2017-07-18T23:52:58Z   \n",
      "1    NaN  2016-03-08T20:21:53Z  2017-07-18T23:52:58Z   \n",
      "2    NaN  2016-03-08T20:21:53Z  2017-07-18T23:52:58Z   \n",
      "3    NaN  2016-03-08T20:21:53Z  2017-07-18T23:52:58Z   \n",
      "4    NaN  2016-03-08T20:21:53Z  2017-07-18T23:52:58Z   \n",
      "\n",
      "                  dimension  ean                         keys  ...  \\\n",
      "0  169 mm x 117 mm x 9.1 mm  NaN  kindlepaperwhite/b00qjdu3ky  ...   \n",
      "1  169 mm x 117 mm x 9.1 mm  NaN  kindlepaperwhite/b00qjdu3ky  ...   \n",
      "2  169 mm x 117 mm x 9.1 mm  NaN  kindlepaperwhite/b00qjdu3ky  ...   \n",
      "3  169 mm x 117 mm x 9.1 mm  NaN  kindlepaperwhite/b00qjdu3ky  ...   \n",
      "4  169 mm x 117 mm x 9.1 mm  NaN  kindlepaperwhite/b00qjdu3ky  ...   \n",
      "\n",
      "  reviews.rating                                 reviews.sourceURLs  \\\n",
      "0            5.0  https://www.amazon.com/Kindle-Paperwhite-High-...   \n",
      "1            5.0  https://www.amazon.com/Kindle-Paperwhite-High-...   \n",
      "2            4.0  https://www.amazon.com/Kindle-Paperwhite-High-...   \n",
      "3            5.0  https://www.amazon.com/Kindle-Paperwhite-High-...   \n",
      "4            5.0  https://www.amazon.com/Kindle-Paperwhite-High-...   \n",
      "\n",
      "                                        reviews.text  \\\n",
      "0  I initially had trouble deciding between the p...   \n",
      "1  Allow me to preface this with a little history...   \n",
      "2  I am enjoying it so far. Great for reading. Ha...   \n",
      "3  I bought one of the first Paperwhites and have...   \n",
      "4  I have to say upfront - I don't like coroporat...   \n",
      "\n",
      "                                reviews.title reviews.userCity  \\\n",
      "0              Paperwhite voyage, no regrets!              NaN   \n",
      "1           One Simply Could Not Ask For More              NaN   \n",
      "2  Great for those that just want an e-reader              NaN   \n",
      "3                    Love / Hate relationship              NaN   \n",
      "4                                   I LOVE IT              NaN   \n",
      "\n",
      "  reviews.userProvince    reviews.username  sizes upc     weight  \n",
      "0                  NaN          Cristina M    NaN NaN  205 grams  \n",
      "1                  NaN               Ricky    NaN NaN  205 grams  \n",
      "2                  NaN       Tedd Gardiner    NaN NaN  205 grams  \n",
      "3                  NaN              Dougal    NaN NaN  205 grams  \n",
      "4                  NaN  Miljan David Tanic    NaN NaN  205 grams  \n",
      "\n",
      "[5 rows x 27 columns]\n"
     ]
    }
   ],
   "source": [
    "import pandas as pd\n",
    "\n",
    "# Load the dataset (replace with your actual file path)\n",
    "data = pd.read_csv(r'C:\\Users\\kaurm\\OneDrive\\Desktop\\dataset.csv')\n",
    "\n",
    "# Verify that the data is loaded\n",
    "print(data.head())\n"
   ]
  },
  {
   "cell_type": "code",
   "execution_count": 2,
   "id": "fb0412ce-87a9-420b-8b0b-d1340f83243e",
   "metadata": {},
   "outputs": [
    {
     "name": "stdout",
     "output_type": "stream",
     "text": [
      "id                         0\n",
      "asins                      0\n",
      "brand                      0\n",
      "categories                 0\n",
      "colors                   823\n",
      "dateAdded                  0\n",
      "dateUpdated                0\n",
      "dimension               1032\n",
      "ean                      699\n",
      "keys                       0\n",
      "manufacturer             632\n",
      "manufacturerNumber       695\n",
      "name                       0\n",
      "prices                     0\n",
      "reviews.date             380\n",
      "reviews.doRecommend     1058\n",
      "reviews.numHelpful       697\n",
      "reviews.rating           420\n",
      "reviews.sourceURLs         0\n",
      "reviews.text               0\n",
      "reviews.title             17\n",
      "reviews.userCity        1597\n",
      "reviews.userProvince    1597\n",
      "reviews.username          17\n",
      "sizes                   1597\n",
      "upc                      699\n",
      "weight                   911\n",
      "dtype: int64\n",
      "Index(['id', 'asins', 'brand', 'categories', 'colors', 'dateAdded',\n",
      "       'dateUpdated', 'dimension', 'ean', 'keys', 'manufacturer',\n",
      "       'manufacturerNumber', 'name', 'prices', 'reviews.date',\n",
      "       'reviews.doRecommend', 'reviews.numHelpful', 'reviews.rating',\n",
      "       'reviews.sourceURLs', 'reviews.text', 'reviews.title',\n",
      "       'reviews.userCity', 'reviews.userProvince', 'reviews.username', 'sizes',\n",
      "       'upc', 'weight'],\n",
      "      dtype='object')\n",
      "(1597, 27)\n"
     ]
    }
   ],
   "source": [
    "print(data.isnull().sum())\n",
    "print(data.columns)\n",
    "print(data.shape)"
   ]
  },
  {
   "cell_type": "code",
   "execution_count": 5,
   "id": "81b5e455-8a6a-43bc-8c94-efa8c5d4ddb3",
   "metadata": {},
   "outputs": [
    {
     "name": "stdout",
     "output_type": "stream",
     "text": [
      "Index(['id', 'asins', 'brand', 'categories', 'colors', 'dateAdded',\n",
      "       'dateUpdated', 'dimension', 'ean', 'keys', 'manufacturer',\n",
      "       'manufacturerNumber', 'name', 'prices', 'reviews.date',\n",
      "       'reviews.doRecommend', 'reviews.numHelpful', 'reviews.rating',\n",
      "       'reviews.sourceURLs', 'reviews.text', 'reviews.title',\n",
      "       'reviews.username', 'upc', 'weight'],\n",
      "      dtype='object')\n",
      "id                       0\n",
      "asins                    0\n",
      "brand                    0\n",
      "categories               0\n",
      "colors                   0\n",
      "dateAdded                0\n",
      "dateUpdated              0\n",
      "dimension              620\n",
      "ean                    484\n",
      "keys                     0\n",
      "manufacturer           451\n",
      "manufacturerNumber     479\n",
      "name                     0\n",
      "prices                   0\n",
      "reviews.date           217\n",
      "reviews.doRecommend    638\n",
      "reviews.numHelpful       0\n",
      "reviews.rating           0\n",
      "reviews.sourceURLs       0\n",
      "reviews.text             0\n",
      "reviews.title            0\n",
      "reviews.username         0\n",
      "upc                    484\n",
      "weight                 525\n",
      "dtype: int64\n",
      "(1177, 24)\n"
     ]
    }
   ],
   "source": [
    "# Verify columns before dropping\n",
    "print(data.columns)\n",
    "\n",
    "# Drop columns with too many missing values\n",
    "columns_to_drop = ['reviews.userCity', 'reviews.userProvince', 'sizes']\n",
    "data = data.drop(columns=[col for col in columns_to_drop if col in data.columns])\n",
    "\n",
    "# Drop rows where critical columns have missing values\n",
    "data = data.dropna(subset=['reviews.text', 'reviews.rating'])\n",
    "\n",
    "# Fill missing values in numerical and categorical columns\n",
    "if 'reviews.numHelpful' in data.columns:\n",
    "    data['reviews.numHelpful'] = data['reviews.numHelpful'].fillna(data['reviews.numHelpful'].mean())\n",
    "if 'colors' in data.columns:\n",
    "    data['colors'] = data['colors'].fillna('Unknown')\n",
    "\n",
    "# Check the cleaned data\n",
    "print(data.isnull().sum())\n",
    "print(data.shape)"
   ]
  },
  {
   "cell_type": "code",
   "execution_count": 8,
   "id": "8103a889-48b1-4c58-9796-660bcd3d06b3",
   "metadata": {},
   "outputs": [
    {
     "name": "stdout",
     "output_type": "stream",
     "text": [
      "Index(['reviews.text', 'reviews.rating', 'reviews.title'], dtype='object')\n",
      "Filtered dataset saved to 'filtered_dataset.csv'\n"
     ]
    }
   ],
   "source": [
    "# Retain only the relevant columns\n",
    "data = data[['reviews.text', 'reviews.rating', 'reviews.title']]\n",
    "\n",
    "# Verify the remaining columns\n",
    "print(data.columns)\n",
    "data.to_csv('filtered_dataset.csv', index=False)\n",
    "print(\"Filtered dataset saved to 'filtered_dataset.csv'\")\n"
   ]
  },
  {
   "cell_type": "code",
   "execution_count": 10,
   "id": "eb3cc84a-6c60-4071-8c89-344ff46e34c5",
   "metadata": {},
   "outputs": [
    {
     "name": "stdout",
     "output_type": "stream",
     "text": [
      "                                        reviews.text  sentiment\n",
      "0  I initially had trouble deciding between the p...   0.200259\n",
      "1  Allow me to preface this with a little history...   0.159591\n",
      "2  I am enjoying it so far. Great for reading. Ha...   0.420833\n",
      "3  I bought one of the first Paperwhites and have...   0.148821\n",
      "4  I have to say upfront - I don't like coroporat...   0.267086\n",
      "Dataset with sentiment scores saved to 'sentiment_dataset.csv'\n"
     ]
    }
   ],
   "source": [
    "from textblob import TextBlob\n",
    "\n",
    "# Add a sentiment polarity column\n",
    "data['sentiment'] = data['reviews.text'].apply(lambda x: TextBlob(x).sentiment.polarity)\n",
    "\n",
    "# Display the first few rows to verify\n",
    "print(data[['reviews.text', 'sentiment']].head())\n",
    "data.to_csv('sentiment_dataset.csv', index=False)\n",
    "print(\"Dataset with sentiment scores saved to 'sentiment_dataset.csv'\")\n",
    "\n"
   ]
  },
  {
   "cell_type": "code",
   "execution_count": 12,
   "id": "13a69609-c8d8-4196-b23d-e3d36cd9f6ec",
   "metadata": {},
   "outputs": [
    {
     "data": {
      "image/png": "[encoded data removed]",
      "text/plain": [
       "<Figure size 1000x600 with 1 Axes>"
      ]
     },
     "metadata": {},
     "output_type": "display_data"
    }
   ],
   "source": [
    "import matplotlib.pyplot as plt\n",
    "\n",
    "# Histogram for sentiment polarity distribution\n",
    "plt.figure(figsize=(10, 6))\n",
    "plt.hist(data['sentiment'], bins=20, color='blue', edgecolor='black')\n",
    "plt.title('Sentiment Polarity Distribution')\n",
    "plt.xlabel('Sentiment Polarity')\n",
    "plt.ylabel('Frequency')\n",
    "plt.show()\n"
   ]
  },
  {
   "cell_type": "code",
   "execution_count": 15,
   "id": "4003f5e0-988b-47ed-a191-9dbb1425ea00",
   "metadata": {},
   "outputs": [
    {
     "name": "stdout",
     "output_type": "stream",
     "text": [
      "0    Positive\n",
      "1    Positive\n",
      "2    Positive\n",
      "3    Positive\n",
      "4    Positive\n",
      "Name: sentiment_category, dtype: object\n"
     ]
    }
   ],
   "source": [
    " def classify_sentiment(score):\n",
    "    if score > 0:\n",
    "        return \"Positive\"\n",
    "    elif score < 0:\n",
    "        return \"Negative\"\n",
    "    else:\n",
    "        return \"Neutral\"\n",
    "\n",
    "# Create the sentiment_category column\n",
    "data['sentiment_category'] = data['sentiment'].apply(classify_sentiment)\n",
    "\n",
    "# Verify the column is added\n",
    "print(data['sentiment_category'].head())"
   ]
  },
  {
   "cell_type": "code",
   "execution_count": 16,
   "id": "429979fb-3ade-4edf-87ff-6aeefe3bfab8",
   "metadata": {},
   "outputs": [
    {
     "data": {
      "image/png": "[encoded data removed]",
      "text/plain": [
       "<Figure size 800x500 with 1 Axes>"
      ]
     },
     "metadata": {},
     "output_type": "display_data"
    }
   ],
   "source": [
    "import matplotlib.pyplot as plt\n",
    "\n",
    "# Bar chart for sentiment category distribution\n",
    "plt.figure(figsize=(8, 5))\n",
    "data['sentiment_category'].value_counts().plot(kind='bar', color=['green', 'blue', 'red'])\n",
    "plt.title('Sentiment Category Distribution')\n",
    "plt.xlabel('Sentiment Category')\n",
    "plt.ylabel('Number of Reviews')\n",
    "plt.show()"
   ]
  },
  {
   "cell_type": "code",
   "execution_count": 17,
   "id": "5f2fe599-f547-41a6-b5d8-d736e22d124a",
   "metadata": {},
   "outputs": [
    {
     "name": "stdout",
     "output_type": "stream",
     "text": [
      "count    1177.000000\n",
      "mean        0.299778\n",
      "std         0.229738\n",
      "min        -0.650000\n",
      "25%         0.175070\n",
      "50%         0.250000\n",
      "75%         0.430000\n",
      "max         1.000000\n",
      "Name: sentiment, dtype: float64\n"
     ]
    }
   ],
   "source": [
    "# Descriptive statistics for sentiment scores\n",
    "print(data['sentiment'].describe())\n"
   ]
  },
  {
   "cell_type": "code",
   "execution_count": 18,
   "id": "0680d0eb-684b-418c-a87e-8791e1c68a68",
   "metadata": {},
   "outputs": [
    {
     "name": "stdout",
     "output_type": "stream",
     "text": [
      "sentiment_category\n",
      "Positive    1073\n",
      "Negative      70\n",
      "Neutral       34\n",
      "Name: count, dtype: int64\n",
      "sentiment_category\n",
      "Positive    91.163976\n",
      "Negative     5.947324\n",
      "Neutral      2.888700\n",
      "Name: proportion, dtype: float64\n"
     ]
    }
   ],
   "source": [
    "# Count of each sentiment category\n",
    "print(data['sentiment_category'].value_counts())\n",
    "\n",
    "# Percentage distribution\n",
    "print(data['sentiment_category'].value_counts(normalize=True) * 100)\n"
   ]
  },
  {
   "cell_type": "code",
   "execution_count": 19,
   "id": "0df0d81a-2e85-413c-aad7-02c58223fe66",
   "metadata": {},
   "outputs": [
    {
     "name": "stdout",
     "output_type": "stream",
     "text": [
      "                sentiment  reviews.rating\n",
      "sentiment        1.000000        0.318508\n",
      "reviews.rating   0.318508        1.000000\n"
     ]
    }
   ],
   "source": [
    "# Correlation between sentiment polarity and ratings\n",
    "correlation = data[['sentiment', 'reviews.rating']].corr()\n",
    "print(correlation)"
   ]
  },
  {
   "cell_type": "code",
   "execution_count": 20,
   "id": "bbc378cf-164f-4f7b-9e36-498b1b92292c",
   "metadata": {},
   "outputs": [
    {
     "name": "stdout",
     "output_type": "stream",
     "text": [
      "Most Positive Reviews:\n",
      "                                          reviews.text  sentiment\n",
      "528  The case does what it is supposed to do. I thi...        1.0\n",
      "660                                            Perfect        1.0\n",
      "663                                        Good case!!        1.0\n",
      "947  This is the one to get after Amazon's update t...        1.0\n",
      "966  Works just like echo but portable!! Great stuf...        1.0\n",
      "\n",
      "Most Negative Reviews:\n",
      "Empty DataFrame\n",
      "Columns: [reviews.text, sentiment]\n",
      "Index: []\n"
     ]
    }
   ],
   "source": [
    "# Most positive reviews\n",
    "print(\"Most Positive Reviews:\")\n",
    "print(data[data['sentiment'] > 0.9][['reviews.text', 'sentiment']].head())\n",
    "\n",
    "# Most negative reviews\n",
    "print(\"\\nMost Negative Reviews:\")\n",
    "print(data[data['sentiment'] < -0.9][['reviews.text', 'sentiment']].head())\n"
   ]
  },
  {
   "cell_type": "code",
   "execution_count": null,
   "id": "d3f6f2f6-10f6-4d3c-b912-560e5282925f",
   "metadata": {},
   "outputs": [],
   "source": []
  }
 ],
 "metadata": {
  "kernelspec": {
   "display_name": "Python 3 (ipykernel)",
   "language": "python",
   "name": "python3"
  },
  "language_info": {
   "codemirror_mode": {
    "name": "ipython",
    "version": 3
   },
   "file_extension": ".py",
   "mimetype": "text/x-python",
   "name": "python",
   "nbconvert_exporter": "python",
   "pygments_lexer": "ipython3",
   "version": "3.12.3"
  }
 },
 "nbformat": 4,
 "nbformat_minor": 5
}
